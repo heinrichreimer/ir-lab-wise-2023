{
 "cells": [
  {
   "cell_type": "markdown",
   "id": "8c3da078-f7fc-4d37-904c-532bb26d4321",
   "metadata": {},
   "source": [
    "# BM25 retrieval with PyTerrier"
   ]
  },
  {
   "cell_type": "code",
   "execution_count": 1,
   "id": "95548698169a739",
   "metadata": {
    "collapsed": false,
    "ExecuteTime": {
     "end_time": "2023-11-13T16:52:08.202134249Z",
     "start_time": "2023-11-13T16:52:07.908900829Z"
    }
   },
   "outputs": [],
   "source": [
    "from sys import modules\n",
    "\n",
    "if \"google.colab\" in modules:\n",
    "    # This is only needed in Google Colab.\n",
    "    !pip install ir-datasets~=0.5.5 ir-measures~=0.3.3 python-terrier~=0.10.0 tira~=0.0.79 tqdm~=4.66"
   ]
  },
  {
   "cell_type": "markdown",
   "id": "66fd2911-c97a-4f91-af28-8c7e381573b6",
   "metadata": {},
   "source": [
    "### Step 1: Import libraries and load variables"
   ]
  },
  {
   "cell_type": "code",
   "execution_count": 2,
   "id": "7ae3c54f-aba1-45bf-b074-e78a99f6405f",
   "metadata": {
    "ExecuteTime": {
     "end_time": "2023-11-13T16:52:08.681366578Z",
     "start_time": "2023-11-13T16:52:07.914297940Z"
    }
   },
   "outputs": [],
   "source": [
    "from pathlib import Path\n",
    "\n",
    "from tira.third_party_integrations import ensure_pyterrier_is_loaded, persist_and_normalize_run"
   ]
  },
  {
   "cell_type": "markdown",
   "id": "babd39f2c41b73b6",
   "metadata": {
    "collapsed": false
   },
   "source": [
    "Ensure that the PyTerrier integration is loaded:"
   ]
  },
  {
   "cell_type": "code",
   "execution_count": 3,
   "id": "c75e668771467ef6",
   "metadata": {
    "collapsed": false,
    "ExecuteTime": {
     "end_time": "2023-11-13T16:52:10.330702548Z",
     "start_time": "2023-11-13T16:52:08.725407319Z"
    }
   },
   "outputs": [
    {
     "name": "stdout",
     "output_type": "stream",
     "text": [
      "Due to execution in TIRA, I have patched ir_datasets to always return the single input dataset mounted to the sandbox.\n",
      "Start PyTerrier with version=5.7, helper_version=0.0.7, no_download=True\n"
     ]
    },
    {
     "name": "stderr",
     "output_type": "stream",
     "text": [
      "PyTerrier 0.10.0 has loaded Terrier 5.7 (built by craigm on 2022-11-10 18:30) and terrier-helper 0.0.7\n",
      "\n",
      "No etc/terrier.properties, using terrier.default.properties for bootstrap configuration.\n"
     ]
    }
   ],
   "source": [
    "ensure_pyterrier_is_loaded()"
   ]
  },
  {
   "cell_type": "code",
   "execution_count": 4,
   "outputs": [],
   "source": [
    "from pyterrier.batchretrieve import BatchRetrieve\n",
    "from pyterrier.bootstrap import IndexFactory\n",
    "from pyterrier.datasets import get_dataset\n",
    "from pyterrier.index import IterDictIndexer"
   ],
   "metadata": {
    "collapsed": false,
    "ExecuteTime": {
     "end_time": "2023-11-13T16:52:10.385311518Z",
     "start_time": "2023-11-13T16:52:10.341236305Z"
    }
   },
   "id": "ed71bc4a5376b3b5"
  },
  {
   "cell_type": "markdown",
   "id": "3d6dc6886aa032fd",
   "metadata": {
    "collapsed": false
   },
   "source": [
    "Specify output directory for the run files:"
   ]
  },
  {
   "cell_type": "code",
   "execution_count": 5,
   "id": "a569e9102a9b6b45",
   "metadata": {
    "collapsed": false,
    "ExecuteTime": {
     "end_time": "2023-11-13T16:52:10.387317652Z",
     "start_time": "2023-11-13T16:52:10.357884521Z"
    }
   },
   "outputs": [],
   "source": [
    "output_directory = \"./output\"\n",
    "index_directory = \"./index\""
   ]
  },
  {
   "cell_type": "markdown",
   "id": "8c563b0e-97ac-44a2-ba2f-18858f1506bb",
   "metadata": {
    "collapsed": false
   },
   "source": [
    "### Step 2: Load the data"
   ]
  },
  {
   "cell_type": "code",
   "execution_count": 7,
   "outputs": [
    {
     "name": "stdout",
     "output_type": "stream",
     "text": [
      "Load ir_dataset \"ir-lab-jena-leipzig-wise-2023/training-20231104-training\" from tira.\n"
     ]
    },
    {
     "data": {
      "text/plain": "IRDSDataset('ir-lab-jena-leipzig-wise-2023/training-20231104-training')"
     },
     "execution_count": 7,
     "metadata": {},
     "output_type": "execute_result"
    }
   ],
   "source": [
    "dataset = get_dataset(\"irds:ir-lab-jena-leipzig-wise-2023/training-20231104-training\")\n",
    "dataset"
   ],
   "metadata": {
    "collapsed": false,
    "ExecuteTime": {
     "end_time": "2023-11-13T16:52:10.573483136Z",
     "start_time": "2023-11-13T16:52:10.437909701Z"
    }
   },
   "id": "53917a0c863699e7"
  },
  {
   "cell_type": "markdown",
   "id": "870c1138e2406529",
   "metadata": {
    "collapsed": false
   },
   "source": [
    "Let's look at the topics:"
   ]
  },
  {
   "cell_type": "code",
   "execution_count": 8,
   "outputs": [
    {
     "name": "stdout",
     "output_type": "stream",
     "text": [
      "No settings given in /home/heinrich/.tira/.tira-settings.json. I will use defaults.\n"
     ]
    },
    {
     "data": {
      "text/plain": "            qid                      query\n0     q06223196                car shelter\n1       q062228                    airport\n2       q062287       antivirus comparison\n3     q06223261             free antivirus\n4       q062291           orange antivirus\n..          ...                        ...\n667  q062224914            tax garden shed\n668  q062224961             land of france\n669  q062225030  find my training pole job\n670  q062225194                    gpl car\n671  q062225197               cheapest car\n\n[672 rows x 2 columns]",
      "text/html": "<div>\n<style scoped>\n    .dataframe tbody tr th:only-of-type {\n        vertical-align: middle;\n    }\n\n    .dataframe tbody tr th {\n        vertical-align: top;\n    }\n\n    .dataframe thead th {\n        text-align: right;\n    }\n</style>\n<table border=\"1\" class=\"dataframe\">\n  <thead>\n    <tr style=\"text-align: right;\">\n      <th></th>\n      <th>qid</th>\n      <th>query</th>\n    </tr>\n  </thead>\n  <tbody>\n    <tr>\n      <th>0</th>\n      <td>q06223196</td>\n      <td>car shelter</td>\n    </tr>\n    <tr>\n      <th>1</th>\n      <td>q062228</td>\n      <td>airport</td>\n    </tr>\n    <tr>\n      <th>2</th>\n      <td>q062287</td>\n      <td>antivirus comparison</td>\n    </tr>\n    <tr>\n      <th>3</th>\n      <td>q06223261</td>\n      <td>free antivirus</td>\n    </tr>\n    <tr>\n      <th>4</th>\n      <td>q062291</td>\n      <td>orange antivirus</td>\n    </tr>\n    <tr>\n      <th>...</th>\n      <td>...</td>\n      <td>...</td>\n    </tr>\n    <tr>\n      <th>667</th>\n      <td>q062224914</td>\n      <td>tax garden shed</td>\n    </tr>\n    <tr>\n      <th>668</th>\n      <td>q062224961</td>\n      <td>land of france</td>\n    </tr>\n    <tr>\n      <th>669</th>\n      <td>q062225030</td>\n      <td>find my training pole job</td>\n    </tr>\n    <tr>\n      <th>670</th>\n      <td>q062225194</td>\n      <td>gpl car</td>\n    </tr>\n    <tr>\n      <th>671</th>\n      <td>q062225197</td>\n      <td>cheapest car</td>\n    </tr>\n  </tbody>\n</table>\n<p>672 rows × 2 columns</p>\n</div>"
     },
     "execution_count": 8,
     "metadata": {},
     "output_type": "execute_result"
    }
   ],
   "source": [
    "topics = dataset.get_topics(variant=\"title\")\n",
    "topics"
   ],
   "metadata": {
    "collapsed": false,
    "ExecuteTime": {
     "end_time": "2023-11-13T16:52:11.021315372Z",
     "start_time": "2023-11-13T16:52:10.486052225Z"
    }
   },
   "id": "76925a61bf46b3d4"
  },
  {
   "cell_type": "markdown",
   "id": "9d22eff1efe90b7c",
   "metadata": {
    "collapsed": false
   },
   "source": [
    "And how many documents do we have for training?"
   ]
  },
  {
   "cell_type": "code",
   "execution_count": 9,
   "id": "296a7a8602059f59",
   "metadata": {
    "collapsed": false,
    "ExecuteTime": {
     "end_time": "2023-11-13T16:52:38.085198440Z",
     "start_time": "2023-11-13T16:52:10.894349273Z"
    }
   },
   "outputs": [
    {
     "name": "stdout",
     "output_type": "stream",
     "text": [
      "No settings given in /home/heinrich/.tira/.tira-settings.json. I will use defaults.\n",
      "The dataset has 47064 documents.\n"
     ]
    }
   ],
   "source": [
    "print(f\"The dataset has {dataset.irds_ref().docs_count()} documents.\")"
   ]
  },
  {
   "cell_type": "markdown",
   "id": "9c05d73d0089c82a",
   "metadata": {
    "collapsed": false
   },
   "source": [
    "The `docs_store` is a view of the dataset for accessing documents with random access."
   ]
  },
  {
   "cell_type": "code",
   "execution_count": 10,
   "id": "2fb5680d8bc618d8",
   "metadata": {
    "collapsed": false,
    "ExecuteTime": {
     "end_time": "2023-11-13T16:52:38.086223729Z",
     "start_time": "2023-11-13T16:52:37.954367238Z"
    }
   },
   "outputs": [],
   "source": [
    "docs_store = dataset.irds_ref().docs_store()"
   ]
  },
  {
   "cell_type": "markdown",
   "id": "b1397f4698c3156f",
   "metadata": {
    "collapsed": false
   },
   "source": [
    "Let's look at the document with the ID `doc062200109610`:"
   ]
  },
  {
   "cell_type": "code",
   "execution_count": 11,
   "id": "7adc86e0",
   "metadata": {
    "collapsed": false,
    "ExecuteTime": {
     "end_time": "2023-11-13T16:52:38.089311389Z",
     "start_time": "2023-11-13T16:52:37.964984060Z"
    }
   },
   "outputs": [
    {
     "name": "stdout",
     "output_type": "stream",
     "text": [
      "GenericDoc(doc_id='doc062200109610', text='\\n\\nEDF\\n-\\nGDF School-Valentine (25480)\\n- Opening of electricity and gas meter Opening of your electricity or gas meter at École-Valentin on the Enedis/ErDF or GrDF network with papernest Free and non-binding service Announcement\\n- papernest is not a partner of EDF.\\nThank you.\\nYour request has been taken into account A counsellor will call you back to the I understood\\nIt seems that there is an error with our service Try again Opening your electricity or gas meter at École-Valentin on the Enedis/ErDF or GrDF network\\nwith agence-france-electricite.fr Call the Me to call back Simple and quick: 5 minutes is enough No commitment or cancellation fee On 13 users Announcement\\n- agency-france-electricite.fr\\nis not a partner of Edf Contacts and rates of Engie gas offers to École-Valentin\\nEngie\\n, formerly SFM\\nSuez, is one of the main suppliers of energy in Franche-Comté and throughout France.\\nThe company emerged from the merger between Suez and GDF (Gaz de France) in the summer of 2008\\nbefore changing its name to Engie in the spring of 2015.\\nThe company is with EDF for electricity the historical gas supplier in the 25th and presents gas at the regulated rate.\\nHowever, Engie is indeed an alternative supplier of electricity and offers École-Valentin fixed price offers and 100% green offers.\\nOn the 25th (Doubs), the number to reach their customer service is 09 69 39 99 93.\\nEnergy Suppliers to École-Valentin\\nEngie offers gas to École-Valentin\\nEngie (ex GDF\\nSuez\\n) is the result of the merger of the Gaz de France group and the Suez group.\\nThe alliance between these two gas giants makes ENGIE one of the world\\'s largest energy groups.\\nThe company is the historical gas supplier in Franche\\n-\\nCounty and throughout France,\\nas EDF for electricity\\n.\\nThe gas rates offered by ENGIE to École-Valentin in 25 (Doubs) are at the regulated rate.\\nAs an alternative electricity supplier, Engie offers its customers in the town of École-Valentin fixed price offers and 100% green offers.\\nTo contact Engie customer service on the 25th (Doubs), please call 09 69 39 99 93.\\nEverything you need to know about EDF at École-Valentin At École-Valentin, EDF is the historic supplier of electricity but also markets natural gas for professionals, individuals and local communities.\\nIn the Franche-Comté region, EDF offers Ecovaliens the kWh of electricity at the regulated rate.\\nAt School\\n-\\nValentin and throughout France, EDF is not the historic supplier of natural gas\\nand can therefore freely choose its tariffs\\n.\\nFor more information about EDF\\'s offers at École-Valentin or if you have any questions about your EDF bill, you can contact their customer service on 09 69 32 15 or go to the supplier\\'s website : edf.fr.\\nGood to know:\\nThere is no longer an EDF agency in France.\\nThese are permanently closed.\\nDirect\\nEnergy at School-Valentine: everything you need to know Direct\\nEnergie is the leading alternative supplier of natural gas and electricity in France.\\nPrivate individuals and professionals at École-Valentin have the choice of 3 types of offers: the Classic offer, the Green offer and the 100% online offer.\\nThese offers are available for gas, electricity or both.\\nThe price offered by Direct Energie is lower than the regulated tariff.\\nResidents of the Franche-Comté region are very satisfied with Direct Energie customer service, which has just been named the best customer service of the year for the ninth consecutive time.\\nTo reach Direct Energy customer service on the 25th (Doubs), here is the corresponding number: 30 99.\\nTotal Spring (ex Lampiris):\\nAlternative supplier of electricity and gas to École-Valentin Total Spring (formerly Lampiris) is one of the new suppliers of gas and electricity available in France since the opening of the energy market to competition in 2007.\\nThe Belgian company, which was bought by Total in 2016, offers the inhabitants of the town of École-Valentin in the Franche-Comté region several non-binding offers, in particular a 100% green offer, another at a fixed price for one year and a dual offer (gas and electricity).\\nTo contact Total Spring customer service on 25 (Doubs), you can do so by calling the following number: 09 70 25 02 50.\\nContact information for Engie and EDF at École-Valentin\\nEngie my client account at École-Valentin\\nIf you are a customer\\nat Engie (formerly GDF)\\nyou have the right to have a personal space online.\\nYou will therefore have access to your bills and even data relating to your personal gas consumption in the town of École-Valentin.\\nOn each of your invoices a code of 9 to 10 digits allows you to be identified as a customer.\\nFind out more\\n-when creating your account on the site: https://particuliers.engie.fr/creation-espace-client.html.\\nYou will then just have to confirm the creation of your client account with the code received by sms.\\nContact of EDF and SFM at École-Valentin\\nWhether for EDF or Engie there are many ways to contact your suppliers.\\nFor EDF: By telephone to the free number 09 69 32 15 15 (open from 8 to 20 h) By mail: EDF Service Client TSA 20012 41975 BLOIS\\nCedex 9\\nWith your customer space For Engie:\\nBy telephone free of charge 09 69 39 99 93\\nOnline on your space\\ncustomer You are therefore able to take out an electricity or gas contract thanks to these contacts.\\nBeware of Engie, we advise you to read our dedicated page since the contact number can change according to your request.\\n\" How to open your meter at École-Valentin?\\nSteps to open your gas meter at École-Valentin At École-Valentin and throughout France, the cost of opening the gas meter varies according to the length of time you are prepared to wait.\\nEcovalians who want to open their gas meter should contact the supplier of their choice to take out a gas contract.\\nYou also need to arrange an appointment with a GRDF technician to activate your meter, as it is the GRDF network manager who is responsible for the commissioning of the gas meter at École-Valentin in the Franche-Comté region (25).\\nOn the day of the technician\\'s visit to your new accommodation, you will not have to pay anything as the fee will be added directly to your next invoice.\\nIf the gas has not been turned off on the day of your move to École-Valentin, then the technician\\'s pass is no longer necessary but you will still be charged 18.58€ including tax.\\nIf, on the other hand, the gas no longer works, then the Ecovalians will have the choice between 3 services: type of commissioning Timeframes 2 working days on the same day 143.01\\nYou have just moved into a new house in École-Valentin in the Franche-Comté region (25)?\\nRemember to connect your new home to natural gas and ask for a first commissioning.\\nThis will cost you €18.26 for a 10 working day response time.\\nOpen your meter at School-Valentine\\nThe steps to open his meter at École-Valentin are the same for gas as for electricity.\\nThe only parameters that will change are the contact numbers for Ecovalians and the rates.\\nWhat is the procedure for opening an electricity or gas meter?\\n1\\n.\\nFirstly, the inhabitants of 25 (Doubs) should check whether the housing meter in École-Valentin is properly connected to the Enedis (for electricity) or GrDF (for gas) network;\\n2.\\nIf the École-Valentin accommodation is not connected, it is necessary to contact the energy distributor and manager concerned; 3.\\nIf it is, Ecovalians can contact the supplier they want, be it the history (EDF for electricity and Engie for gas) or an alternative supplier (Eni, Direct Energie, etc...); 4.\\nDuring this stage, if the electricity at École-Valentin is functional (so it has not been turned off in the accommodation), you can proceed to the suite.\\nIf the opposite is the case, it is a matter of switching the meter into service in the 25th (Doubs).\\nEcovalians must make an appointment with Enedis or GrDF for a technician to come.\\nIt will not be necessary to see an Ecovalian technician arrive if the meter is a smart meter like Linky or Gazpar.\\n5.\\nYou have electricity at École-Valentin.\\nSharing the article Send To learn more about our policy on controlling, processing and publishing notices:\\nclick here Comment sent !\\nThank you, your comment has been taken into account and will be subject to moderation.\\nTo learn more about our policy on the control, processing and publication of notices:\\nclick here\\n\\n\\n')\n"
     ]
    }
   ],
   "source": [
    "print(docs_store.get(\"doc062200109610\"))"
   ]
  },
  {
   "cell_type": "markdown",
   "id": "72655916-07fe-4c58-82c1-2f9f93381e7f",
   "metadata": {},
   "source": [
    "### Step 3: Create the index"
   ]
  },
  {
   "cell_type": "code",
   "execution_count": 12,
   "id": "05ce062d-25e4-4c61-b6ce-9431b9f2bbd4",
   "metadata": {
    "ExecuteTime": {
     "end_time": "2023-11-13T16:52:39.100058955Z",
     "start_time": "2023-11-13T16:52:38.015170731Z"
    }
   },
   "outputs": [],
   "source": [
    "if Path(index_directory).exists():\n",
    "    index_ref = index_directory\n",
    "else:\n",
    "    indexer = IterDictIndexer(\"./index\", overwrite=False)\n",
    "    index_ref = indexer.index(dataset.get_corpus_iter(verbose=True))\n",
    "index = IndexFactory.of(index_ref)"
   ]
  },
  {
   "cell_type": "markdown",
   "id": "806c4638-ccee-4470-a74c-2a85d9ee2cfc",
   "metadata": {},
   "source": [
    "### Step 4: Create retrieval pipeline"
   ]
  },
  {
   "cell_type": "code",
   "execution_count": 13,
   "id": "642259bc",
   "metadata": {
    "ExecuteTime": {
     "end_time": "2023-11-13T16:52:39.230467052Z",
     "start_time": "2023-11-13T16:52:39.111750022Z"
    }
   },
   "outputs": [],
   "source": [
    "bm25 = BatchRetrieve(index, wmodel=\"BM25\", verbose=True)"
   ]
  },
  {
   "cell_type": "markdown",
   "id": "5cb6607b",
   "metadata": {},
   "source": [
    "### Step 5: Create the run\n",
    "This will retrieve documents with the BM25 model for all queries."
   ]
  },
  {
   "cell_type": "code",
   "execution_count": 14,
   "id": "a191f396-e896-4792-afaf-574e452640f5",
   "metadata": {
    "ExecuteTime": {
     "end_time": "2023-11-13T16:53:39.528725883Z",
     "start_time": "2023-11-13T16:52:39.232170411Z"
    }
   },
   "outputs": [
    {
     "name": "stderr",
     "output_type": "stream",
     "text": [
      "BR(BM25): 100%|██████████| 672/672 [00:58<00:00, 11.55q/s]\n"
     ]
    }
   ],
   "source": [
    "run = bm25.transform(topics)"
   ]
  },
  {
   "cell_type": "markdown",
   "id": "72690be95de7f296",
   "metadata": {
    "collapsed": false
   },
   "source": [
    "Let's look at a few results of the run:"
   ]
  },
  {
   "cell_type": "code",
   "execution_count": 15,
   "id": "c0e07fca-de98-4de2-b6a7-abfd516c652c",
   "metadata": {
    "ExecuteTime": {
     "end_time": "2023-11-13T16:53:39.796276655Z",
     "start_time": "2023-11-13T16:53:39.558611866Z"
    }
   },
   "outputs": [
    {
     "data": {
      "text/plain": "            qid  docid            docno  rank     score        query\n995   q06223196  10827  doc062205406611   995  3.249728  car shelter\n996   q06223196  15619  doc062200206552   996  3.249516  car shelter\n997   q06223196   9686  doc062202003811   997  3.249338  car shelter\n998   q06223196  43217  doc062205700094   998  3.249158  car shelter\n999   q06223196   5372  doc062201801330   999  3.249158  car shelter\n1000    q062228  18692  doc062214607455     0  9.122952      airport\n1001    q062228  37997  doc062214701942     1  9.060229      airport\n1002    q062228  24031  doc062214408047     2  9.058265      airport\n1003    q062228  34995  doc062214509661     3  9.052274      airport\n1004    q062228  11166  doc062208006681     4  9.050859      airport",
      "text/html": "<div>\n<style scoped>\n    .dataframe tbody tr th:only-of-type {\n        vertical-align: middle;\n    }\n\n    .dataframe tbody tr th {\n        vertical-align: top;\n    }\n\n    .dataframe thead th {\n        text-align: right;\n    }\n</style>\n<table border=\"1\" class=\"dataframe\">\n  <thead>\n    <tr style=\"text-align: right;\">\n      <th></th>\n      <th>qid</th>\n      <th>docid</th>\n      <th>docno</th>\n      <th>rank</th>\n      <th>score</th>\n      <th>query</th>\n    </tr>\n  </thead>\n  <tbody>\n    <tr>\n      <th>995</th>\n      <td>q06223196</td>\n      <td>10827</td>\n      <td>doc062205406611</td>\n      <td>995</td>\n      <td>3.249728</td>\n      <td>car shelter</td>\n    </tr>\n    <tr>\n      <th>996</th>\n      <td>q06223196</td>\n      <td>15619</td>\n      <td>doc062200206552</td>\n      <td>996</td>\n      <td>3.249516</td>\n      <td>car shelter</td>\n    </tr>\n    <tr>\n      <th>997</th>\n      <td>q06223196</td>\n      <td>9686</td>\n      <td>doc062202003811</td>\n      <td>997</td>\n      <td>3.249338</td>\n      <td>car shelter</td>\n    </tr>\n    <tr>\n      <th>998</th>\n      <td>q06223196</td>\n      <td>43217</td>\n      <td>doc062205700094</td>\n      <td>998</td>\n      <td>3.249158</td>\n      <td>car shelter</td>\n    </tr>\n    <tr>\n      <th>999</th>\n      <td>q06223196</td>\n      <td>5372</td>\n      <td>doc062201801330</td>\n      <td>999</td>\n      <td>3.249158</td>\n      <td>car shelter</td>\n    </tr>\n    <tr>\n      <th>1000</th>\n      <td>q062228</td>\n      <td>18692</td>\n      <td>doc062214607455</td>\n      <td>0</td>\n      <td>9.122952</td>\n      <td>airport</td>\n    </tr>\n    <tr>\n      <th>1001</th>\n      <td>q062228</td>\n      <td>37997</td>\n      <td>doc062214701942</td>\n      <td>1</td>\n      <td>9.060229</td>\n      <td>airport</td>\n    </tr>\n    <tr>\n      <th>1002</th>\n      <td>q062228</td>\n      <td>24031</td>\n      <td>doc062214408047</td>\n      <td>2</td>\n      <td>9.058265</td>\n      <td>airport</td>\n    </tr>\n    <tr>\n      <th>1003</th>\n      <td>q062228</td>\n      <td>34995</td>\n      <td>doc062214509661</td>\n      <td>3</td>\n      <td>9.052274</td>\n      <td>airport</td>\n    </tr>\n    <tr>\n      <th>1004</th>\n      <td>q062228</td>\n      <td>11166</td>\n      <td>doc062208006681</td>\n      <td>4</td>\n      <td>9.050859</td>\n      <td>airport</td>\n    </tr>\n  </tbody>\n</table>\n</div>"
     },
     "execution_count": 15,
     "metadata": {},
     "output_type": "execute_result"
    }
   ],
   "source": [
    "run.iloc[995:1005]"
   ]
  },
  {
   "cell_type": "markdown",
   "id": "28c40a2e-0f96-4ae8-aa5e-55a5e7ef9dee",
   "metadata": {},
   "source": [
    "### Step 6: Persist run"
   ]
  },
  {
   "cell_type": "markdown",
   "id": "70e959847fe84330",
   "metadata": {
    "collapsed": false
   },
   "source": [
    "Perfect! All that's left is to persist the run in the standard TREC format:"
   ]
  },
  {
   "cell_type": "code",
   "execution_count": 16,
   "id": "12e5bb42-ed1f-41ba-b7a5-cb43ebca96f6",
   "metadata": {
    "ExecuteTime": {
     "end_time": "2023-11-13T16:53:48.464658946Z",
     "start_time": "2023-11-13T16:53:39.590928670Z"
    }
   },
   "outputs": [
    {
     "name": "stdout",
     "output_type": "stream",
     "text": [
      "Done. run file is stored under \"./output/run.txt\".\n"
     ]
    }
   ],
   "source": [
    "persist_and_normalize_run(run, output_file=output_directory, system_name=\"BM25\", depth=1000)"
   ]
  },
  {
   "cell_type": "code",
   "execution_count": 16,
   "id": "ae98d260-8b5a-496b-805b-74e889fe45b6",
   "metadata": {
    "ExecuteTime": {
     "end_time": "2023-11-13T16:53:48.473454873Z",
     "start_time": "2023-11-13T16:53:48.468183210Z"
    }
   },
   "outputs": [],
   "source": []
  }
 ],
 "metadata": {
  "kernelspec": {
   "display_name": "Python 3 (ipykernel)",
   "language": "python",
   "name": "python3"
  },
  "language_info": {
   "codemirror_mode": {
    "name": "ipython",
    "version": 3
   },
   "file_extension": ".py",
   "mimetype": "text/x-python",
   "name": "python",
   "nbconvert_exporter": "python",
   "pygments_lexer": "ipython3",
   "version": "3.10.13"
  }
 },
 "nbformat": 4,
 "nbformat_minor": 5
}
